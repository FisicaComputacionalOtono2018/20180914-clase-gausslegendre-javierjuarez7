{
  "nbformat": 4,
  "nbformat_minor": 0,
  "metadata": {
    "colab": {
      "name": "Integral numerica.ipynb",
      "version": "0.3.2",
      "provenance": []
    },
    "kernelspec": {
      "name": "python3",
      "display_name": "Python 3"
    }
  },
  "cells": [
    {
      "metadata": {
        "id": "RyLll-AQhPBQ",
        "colab_type": "code",
        "colab": {
          "base_uri": "https://localhost:8080/",
          "height": 86
        },
        "outputId": "7634cae3-8c32-4f11-e953-525dd9bfc803"
      },
      "cell_type": "code",
      "source": [
        "import numpy as np\n",
        "\n",
        "def funcion(x):\n",
        "  return x**3+2*x**2\n",
        "\n",
        "def integral(n,liminf,limsup):\n",
        "  xi, pesos = np.polynomial.legendre.leggauss(n)\n",
        "  integralnumerica=0\n",
        "  for i in range(0,n):\n",
        "    integralnumerica = integralnumerica+pesos[i]*funcion((limsup-liminf)/2+xi[i]+(limsup+liminf)/2)\n",
        "  return ((limsup-liminf)/n)*integralnumerica\n",
        "\n",
        "a=float(input('Introduce el limite inferior de la integral: '))\n",
        "b=float(input('Introduce el limite superior de la integral: '))\n",
        "n=int(input('Introduce el grado n: '))\n",
        "print (integral(n,a,b))"
      ],
      "execution_count": 17,
      "outputs": [
        {
          "output_type": "stream",
          "text": [
            "Introduce el limite inferior de la integral: 1\n",
            "Introduce el limite superior de la integral: 6\n",
            "Introduce el grado n: 3\n",
            "982.2222222222223\n"
          ],
          "name": "stdout"
        }
      ]
    }
  ]
}